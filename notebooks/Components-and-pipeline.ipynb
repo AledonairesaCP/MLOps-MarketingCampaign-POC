{
  "cells": [
    {
      "cell_type": "markdown",
      "source": [
        "### Library imports"
      ],
      "metadata": {
        "nteract": {
          "transient": {
            "deleting": false
          }
        }
      }
    },
    {
      "cell_type": "code",
      "source": [
        "from azure.identity import DefaultAzureCredential           # Simplified way to obtain credentials\n",
        "from azure.identity import InteractiveBrowserCredential     # When authentication is done through a web browser\n",
        "\n",
        "from azure.ai.ml import MLClient            # Interating with Azure ML services (datasets, moels, ...)\n",
        "from azure.ai.ml.dsl import pipeline        # Define machine learning pipelines\n",
        "from azure.ai.ml import load_component      # Load Azure ML components"
      ],
      "outputs": [],
      "execution_count": 68,
      "metadata": {
        "gather": {
          "logged": 1700650791934
        }
      }
    },
    {
      "cell_type": "markdown",
      "source": [
        "### Configure credentials"
      ],
      "metadata": {
        "nteract": {
          "transient": {
            "deleting": false
          }
        }
      }
    },
    {
      "cell_type": "code",
      "source": [
        "try:\n",
        "    credential = DefaultAzureCredential()\n",
        "    # Check if given credential can get token successfully.\n",
        "    credential.get_token(\"https://management.azure.com/.default\")\n",
        "except Exception as ex:\n",
        "    # Fall back to InteractiveBrowserCredential in case DefaultAzureCredential not work\n",
        "    credential = InteractiveBrowserCredential()"
      ],
      "outputs": [],
      "execution_count": 69,
      "metadata": {
        "jupyter": {
          "source_hidden": false,
          "outputs_hidden": false
        },
        "nteract": {
          "transient": {
            "deleting": false
          }
        },
        "gather": {
          "logged": 1700650794962
        }
      }
    },
    {
      "cell_type": "markdown",
      "source": [
        "### Get a handle to the workspace"
      ],
      "metadata": {
        "nteract": {
          "transient": {
            "deleting": false
          }
        }
      }
    },
    {
      "cell_type": "code",
      "source": [
        "# Get a handle to workspace\n",
        "ml_client = MLClient.from_config(credential=credential)\n",
        "\n",
        "# Retrieve an already attached Azure Machine Learning Compute\n",
        "# Demonstrates it connects correctly\n",
        "cpu_compute_target = \"default-compute-poc\"\n",
        "print(ml_client.compute.get(cpu_compute_target))"
      ],
      "outputs": [
        {
          "output_type": "stream",
          "name": "stderr",
          "text": "Found the config file in: /config.json\n"
        },
        {
          "output_type": "stream",
          "name": "stdout",
          "text": "enable_node_public_ip: true\nid: /subscriptions/27a6aae6-ce60-4ae4-a06e-cfe9c1e824d4/resourceGroups/RG-ADA-MLOPS-POC/providers/Microsoft.MachineLearningServices/workspaces/azu-ml-ada-mlops-poc/computes/default-compute-poc\nidentity:\n  principal_id: 1b981572-d59d-4e6e-a5e2-116ca8b1d40e\n  tenant_id: d5b4529b-7457-49d9-931b-7c7f9b9eed54\n  type: system_assigned\nidle_time_before_shutdown: PT60M\nidle_time_before_shutdown_minutes: 60\nlast_operation:\n  operation_name: Start\n  operation_status: Succeeded\n  operation_time: '2023-11-22T08:11:35.087Z'\n  operation_trigger: User\nlocation: westeurope\nname: default-compute-poc\nnetwork_settings:\n  private_ip_address: 10.0.0.4\n  public_ip_address: 20.8.226.151\nos_image_metadata:\n  current_image_version: 23.10.09\n  is_latest_os_image_version: false\n  latest_image_version: 23.10.24\nprovisioning_state: Succeeded\nservices:\n- display_name: Jupyter\n  endpoint_uri: https://default-compute-poc.westeurope.instances.azureml.ms/tree/\n- display_name: Jupyter Lab\n  endpoint_uri: https://default-compute-poc.westeurope.instances.azureml.ms/lab\nsize: STANDARD_D2_V3\nssh_public_access_enabled: false\nssh_settings:\n  admin_username: azureuser\n  ssh_port: '4000'\nstate: Running\ntype: computeinstance\n\n"
        }
      ],
      "execution_count": 70,
      "metadata": {
        "jupyter": {
          "source_hidden": false,
          "outputs_hidden": false
        },
        "nteract": {
          "transient": {
            "deleting": false
          }
        },
        "gather": {
          "logged": 1700650795468
        }
      }
    },
    {
      "cell_type": "markdown",
      "source": [
        "### Prepare input data"
      ],
      "metadata": {
        "nteract": {
          "transient": {
            "deleting": false
          }
        }
      }
    },
    {
      "cell_type": "code",
      "source": [
        "from azure.ai.ml import Input                       # Specify inputs to ML jobs\n",
        "from azure.ai.ml.constants import AssetTypes        # Provide standarized identifiers for assets\n",
        "\n",
        "available_data = Input(\n",
        "    type=AssetTypes.URI_FILE,\n",
        "    path=\"azureml:data_available:2\"\n",
        ")"
      ],
      "outputs": [],
      "execution_count": 71,
      "metadata": {
        "jupyter": {
          "source_hidden": false,
          "outputs_hidden": false
        },
        "nteract": {
          "transient": {
            "deleting": false
          }
        },
        "gather": {
          "logged": 1700650799064
        }
      }
    },
    {
      "cell_type": "markdown",
      "source": [
        "### Load components"
      ],
      "metadata": {
        "nteract": {
          "transient": {
            "deleting": false
          }
        }
      }
    },
    {
      "cell_type": "code",
      "source": [
        "# Reload modules automatically\n",
        "%load_ext autoreload\n",
        "%autoreload 2\n",
        "\n",
        "# Component list to update or create them later\n",
        "components = []\n",
        "\n",
        "from feature_selection.feature_selection_component import feature_selection_component\n",
        "components.append([\"feature_selection\", feature_selection_component])\n",
        "\n",
        "from feature_engineering.feature_engineering_component import feature_engineering_component\n",
        "components.append(['feature_engineering', feature_engineering_component])\n",
        "\n",
        "from outlier_treatment.outlier_treatment_component import outlier_treatment_component\n",
        "components.append(['outlier_treatment', outlier_treatment_component])\n",
        "\n",
        "from split_data.split_data_component import split_data_component\n",
        "components.append(['split_data', split_data_component])\n",
        "\n",
        "from imputation.imputation_component import imputation_component\n",
        "components.append(['imputation', imputation_component])\n",
        "\n",
        "from normalization.normalization_component import normalization_component\n",
        "components.append(['normalization', normalization_component])\n",
        "\n",
        "from encoding.encoding_component import encoding_component\n",
        "components.append(['encoding', encoding_component])\n",
        "\n",
        "from training.training_component import training_component\n",
        "components.append(['training', training_component])\n",
        "\n",
        "from scoring.scoring_component import scoring_component\n",
        "components.append(['scoring', scoring_component])"
      ],
      "outputs": [
        {
          "output_type": "stream",
          "name": "stdout",
          "text": "The autoreload extension is already loaded. To reload it, use:\n  %reload_ext autoreload\n"
        }
      ],
      "execution_count": 72,
      "metadata": {
        "jupyter": {
          "source_hidden": false,
          "outputs_hidden": false
        },
        "nteract": {
          "transient": {
            "deleting": false
          }
        },
        "gather": {
          "logged": 1700650800288
        }
      }
    },
    {
      "cell_type": "markdown",
      "source": [
        "### Build pipeline"
      ],
      "metadata": {
        "nteract": {
          "transient": {
            "deleting": false
          }
        }
      }
    },
    {
      "cell_type": "code",
      "source": [
        "@pipeline(\n",
        "    default_compute=cpu_compute_target,\n",
        ")\n",
        "\n",
        "def marketing_campaign_prediction(pipeline_input_data):\n",
        "    \n",
        "    # Feature selection\n",
        "    feature_selection_node = feature_selection_component(input_data=pipeline_input_data)\n",
        "\n",
        "    # Feature engineering\n",
        "    feature_engineering_node = feature_engineering_component(input_data=feature_selection_node.outputs.output_data)\n",
        "    \n",
        "    # Outlier treatment\n",
        "    outlier_treatment_node = outlier_treatment_component(input_data=feature_engineering_node.outputs.output_data)\n",
        "    \n",
        "    # Split data\n",
        "    split_data_node = split_data_component(input_data=outlier_treatment_node.outputs.output_data)\n",
        "    \n",
        "    # Imputation\n",
        "    imputation_node = imputation_component(X_train_input=split_data_node.outputs.X_train_data,\n",
        "                                           X_test_input=split_data_node.outputs.X_test_data)\n",
        "    # Normalization\n",
        "    normalization_node = normalization_component(X_train_input=imputation_node.outputs.X_train_output,\n",
        "                                                 X_test_input=imputation_node.outputs.X_test_output)\n",
        "    # Encoding\n",
        "    encoding_node = encoding_component(X_train_input=normalization_node.outputs.X_train_output,\n",
        "                                       X_test_input=normalization_node.outputs.X_test_output)\n",
        "    # Training\n",
        "    training_node = training_component(X_train_input=encoding_node.outputs.X_train_output,\n",
        "                                       y_train_input=split_data_node.outputs.y_train_data)\n",
        "    # Scoring\n",
        "    scoring_node = scoring_component(X_test_input=encoding_node.outputs.X_test_output,\n",
        "                                     y_test_input=split_data_node.outputs.y_test_data,\n",
        "                                     model_input=training_node.outputs.model_output)\n",
        "\n",
        "# create a pipeline\n",
        "pipeline_job = marketing_campaign_prediction(pipeline_input_data=available_data)"
      ],
      "outputs": [],
      "execution_count": 74,
      "metadata": {
        "jupyter": {
          "source_hidden": false,
          "outputs_hidden": false
        },
        "nteract": {
          "transient": {
            "deleting": false
          }
        },
        "gather": {
          "logged": 1700650806587
        }
      }
    },
    {
      "cell_type": "markdown",
      "source": [
        "### Submit pipeline job"
      ],
      "metadata": {
        "nteract": {
          "transient": {
            "deleting": false
          }
        }
      }
    },
    {
      "cell_type": "code",
      "source": [
        "pipeline_job = ml_client.jobs.create_or_update(\n",
        "    pipeline_job, experiment_name=\"marketing_pipeline_test_3\"\n",
        ")\n",
        "\n",
        "pipeline_job"
      ],
      "outputs": [
        {
          "output_type": "stream",
          "name": "stderr",
          "text": "\u001b[32mUploading scoring (0.0 MBs): 100%|██████████| 1881/1881 [00:00<00:00, 11779.59it/s]\n\u001b[39m\n\n"
        },
        {
          "output_type": "execute_result",
          "execution_count": 75,
          "data": {
            "text/plain": "PipelineJob({'inputs': {'pipeline_input_data': <azure.ai.ml.entities._job.pipeline._io.base.PipelineInput object at 0x7f958f2b70a0>}, 'outputs': {}, 'jobs': {}, 'component': PipelineComponent({'intellectual_property': None, 'auto_increment_version': False, 'source': 'REMOTE.WORKSPACE.JOB', 'is_anonymous': True, 'auto_delete_setting': None, 'name': 'azureml_anonymous', 'description': None, 'tags': {}, 'properties': {}, 'print_as_yaml': True, 'id': None, 'Resource__source_path': None, 'base_path': '/mnt/batch/tasks/shared/LS_root/mounts/clusters/default-compute-poc/code/Users/alejandro.donaire', 'creation_context': None, 'serialize': <msrest.serialization.Serializer object at 0x7f958f2b5180>, 'version': '1', 'latest_version': None, 'schema': None, 'type': 'pipeline', 'display_name': 'marketing_campaign_prediction', 'is_deterministic': None, 'inputs': {'pipeline_input_data': {}}, 'outputs': {}, 'yaml_str': None, 'other_parameter': {}, 'jobs': {'feature_selection_node': Command({'parameters': {}, 'init': False, 'name': 'feature_selection_node', 'type': 'command', 'status': None, 'log_files': None, 'description': None, 'tags': {}, 'properties': {}, 'print_as_yaml': True, 'id': None, 'Resource__source_path': None, 'base_path': '/mnt/batch/tasks/shared/LS_root/mounts/clusters/default-compute-poc/code/Users/alejandro.donaire', 'creation_context': None, 'serialize': <msrest.serialization.Serializer object at 0x7f958f2b5a20>, 'allowed_keys': {}, 'key_restriction': False, 'logger': <Logger attr_dict (WARNING)>, 'display_name': None, 'experiment_name': None, 'compute': None, 'services': None, 'comment': None, 'job_inputs': {'input_data': '${{parent.inputs.pipeline_input_data}}'}, 'job_outputs': {}, 'inputs': {'input_data': <azure.ai.ml.entities._job.pipeline._io.base.NodeInput object at 0x7f958f2b4370>}, 'outputs': {}, 'component': 'azureml_anonymous:3a5eeb09-9981-4dc2-b559-f593c340af9a', 'referenced_control_flow_node_instance_id': None, 'kwargs': {'services': None}, 'instance_id': '85a835f1-ce5d-436f-855d-112898017e40', 'source': 'REMOTE.WORKSPACE.COMPONENT', 'validate_required_input_not_provided': True, 'limits': None, 'identity': None, 'distribution': None, 'environment_variables': {}, 'environment': None, 'resources': None, 'queue_settings': None, 'swept': False}), 'feature_engineering_node': Command({'parameters': {}, 'init': False, 'name': 'feature_engineering_node', 'type': 'command', 'status': None, 'log_files': None, 'description': None, 'tags': {}, 'properties': {}, 'print_as_yaml': True, 'id': None, 'Resource__source_path': None, 'base_path': '/mnt/batch/tasks/shared/LS_root/mounts/clusters/default-compute-poc/code/Users/alejandro.donaire', 'creation_context': None, 'serialize': <msrest.serialization.Serializer object at 0x7f958f2b6200>, 'allowed_keys': {}, 'key_restriction': False, 'logger': <Logger attr_dict (WARNING)>, 'display_name': None, 'experiment_name': None, 'compute': None, 'services': None, 'comment': None, 'job_inputs': {'input_data': '${{parent.jobs.feature_selection_node.outputs.output_data}}'}, 'job_outputs': {}, 'inputs': {'input_data': <azure.ai.ml.entities._job.pipeline._io.base.NodeInput object at 0x7f958f2b55a0>}, 'outputs': {}, 'component': 'azureml_anonymous:c7d4bc1d-251d-4f97-bba9-d97285819d3f', 'referenced_control_flow_node_instance_id': None, 'kwargs': {'services': None}, 'instance_id': 'f4c19cdf-4288-4bb2-b901-d4cf9db8b378', 'source': 'REMOTE.WORKSPACE.COMPONENT', 'validate_required_input_not_provided': True, 'limits': None, 'identity': None, 'distribution': None, 'environment_variables': {}, 'environment': None, 'resources': None, 'queue_settings': None, 'swept': False}), 'outlier_treatment_node': Command({'parameters': {}, 'init': False, 'name': 'outlier_treatment_node', 'type': 'command', 'status': None, 'log_files': None, 'description': None, 'tags': {}, 'properties': {}, 'print_as_yaml': True, 'id': None, 'Resource__source_path': None, 'base_path': '/mnt/batch/tasks/shared/LS_root/mounts/clusters/default-compute-poc/code/Users/alejandro.donaire', 'creation_context': None, 'serialize': <msrest.serialization.Serializer object at 0x7f958f2b6290>, 'allowed_keys': {}, 'key_restriction': False, 'logger': <Logger attr_dict (WARNING)>, 'display_name': None, 'experiment_name': None, 'compute': None, 'services': None, 'comment': None, 'job_inputs': {'input_data': '${{parent.jobs.feature_engineering_node.outputs.output_data}}'}, 'job_outputs': {}, 'inputs': {'input_data': <azure.ai.ml.entities._job.pipeline._io.base.NodeInput object at 0x7f958f2b6aa0>}, 'outputs': {}, 'component': 'azureml_anonymous:67692d05-7d41-4806-89d1-688e36d393fe', 'referenced_control_flow_node_instance_id': None, 'kwargs': {'services': None}, 'instance_id': '9e7f88b5-421b-4c70-88f2-fdab5c88497a', 'source': 'REMOTE.WORKSPACE.COMPONENT', 'validate_required_input_not_provided': True, 'limits': None, 'identity': None, 'distribution': None, 'environment_variables': {}, 'environment': None, 'resources': None, 'queue_settings': None, 'swept': False}), 'split_data_node': Command({'parameters': {}, 'init': False, 'name': 'split_data_node', 'type': 'command', 'status': None, 'log_files': None, 'description': None, 'tags': {}, 'properties': {}, 'print_as_yaml': True, 'id': None, 'Resource__source_path': None, 'base_path': '/mnt/batch/tasks/shared/LS_root/mounts/clusters/default-compute-poc/code/Users/alejandro.donaire', 'creation_context': None, 'serialize': <msrest.serialization.Serializer object at 0x7f958f2b4190>, 'allowed_keys': {}, 'key_restriction': False, 'logger': <Logger attr_dict (WARNING)>, 'display_name': None, 'experiment_name': None, 'compute': None, 'services': None, 'comment': None, 'job_inputs': {'input_data': '${{parent.jobs.outlier_treatment_node.outputs.output_data}}'}, 'job_outputs': {}, 'inputs': {'input_data': <azure.ai.ml.entities._job.pipeline._io.base.NodeInput object at 0x7f958f2b47f0>}, 'outputs': {}, 'component': 'azureml_anonymous:5fc48a59-ecac-4cfd-b842-047997b10cbf', 'referenced_control_flow_node_instance_id': None, 'kwargs': {'services': None}, 'instance_id': '7acdcc2e-34a9-4302-b658-cc79434fb45c', 'source': 'REMOTE.WORKSPACE.COMPONENT', 'validate_required_input_not_provided': True, 'limits': None, 'identity': None, 'distribution': None, 'environment_variables': {}, 'environment': None, 'resources': None, 'queue_settings': None, 'swept': False}), 'imputation_node': Command({'parameters': {}, 'init': False, 'name': 'imputation_node', 'type': 'command', 'status': None, 'log_files': None, 'description': None, 'tags': {}, 'properties': {}, 'print_as_yaml': True, 'id': None, 'Resource__source_path': None, 'base_path': '/mnt/batch/tasks/shared/LS_root/mounts/clusters/default-compute-poc/code/Users/alejandro.donaire', 'creation_context': None, 'serialize': <msrest.serialization.Serializer object at 0x7f958f2b7760>, 'allowed_keys': {}, 'key_restriction': False, 'logger': <Logger attr_dict (WARNING)>, 'display_name': None, 'experiment_name': None, 'compute': None, 'services': None, 'comment': None, 'job_inputs': {'X_train_input': '${{parent.jobs.split_data_node.outputs.X_train_data}}', 'X_test_input': '${{parent.jobs.split_data_node.outputs.X_test_data}}'}, 'job_outputs': {}, 'inputs': {'X_train_input': <azure.ai.ml.entities._job.pipeline._io.base.NodeInput object at 0x7f958f2b4340>, 'X_test_input': <azure.ai.ml.entities._job.pipeline._io.base.NodeInput object at 0x7f958f2b6a70>}, 'outputs': {}, 'component': 'azureml_anonymous:14e1f518-ae32-4cb9-81fe-5bff5d586103', 'referenced_control_flow_node_instance_id': None, 'kwargs': {'services': None}, 'instance_id': 'd02654b1-41ac-4fd8-9fd9-1d069ce0ccbb', 'source': 'REMOTE.WORKSPACE.COMPONENT', 'validate_required_input_not_provided': True, 'limits': None, 'identity': None, 'distribution': None, 'environment_variables': {}, 'environment': None, 'resources': None, 'queue_settings': None, 'swept': False}), 'normalization_node': Command({'parameters': {}, 'init': False, 'name': 'normalization_node', 'type': 'command', 'status': None, 'log_files': None, 'description': None, 'tags': {}, 'properties': {}, 'print_as_yaml': True, 'id': None, 'Resource__source_path': None, 'base_path': '/mnt/batch/tasks/shared/LS_root/mounts/clusters/default-compute-poc/code/Users/alejandro.donaire', 'creation_context': None, 'serialize': <msrest.serialization.Serializer object at 0x7f958f2b51b0>, 'allowed_keys': {}, 'key_restriction': False, 'logger': <Logger attr_dict (WARNING)>, 'display_name': None, 'experiment_name': None, 'compute': None, 'services': None, 'comment': None, 'job_inputs': {'X_train_input': '${{parent.jobs.imputation_node.outputs.X_train_output}}', 'X_test_input': '${{parent.jobs.imputation_node.outputs.X_test_output}}'}, 'job_outputs': {}, 'inputs': {'X_train_input': <azure.ai.ml.entities._job.pipeline._io.base.NodeInput object at 0x7f958f2b7310>, 'X_test_input': <azure.ai.ml.entities._job.pipeline._io.base.NodeInput object at 0x7f958f2b4310>}, 'outputs': {}, 'component': 'azureml_anonymous:70f880e3-b3e6-423e-afe7-9553c29f8acb', 'referenced_control_flow_node_instance_id': None, 'kwargs': {'services': None}, 'instance_id': '693d06eb-bd84-4ce3-a3fd-04a761dd5b90', 'source': 'REMOTE.WORKSPACE.COMPONENT', 'validate_required_input_not_provided': True, 'limits': None, 'identity': None, 'distribution': None, 'environment_variables': {}, 'environment': None, 'resources': None, 'queue_settings': None, 'swept': False}), 'encoding_node': Command({'parameters': {}, 'init': False, 'name': 'encoding_node', 'type': 'command', 'status': None, 'log_files': None, 'description': None, 'tags': {}, 'properties': {}, 'print_as_yaml': True, 'id': None, 'Resource__source_path': None, 'base_path': '/mnt/batch/tasks/shared/LS_root/mounts/clusters/default-compute-poc/code/Users/alejandro.donaire', 'creation_context': None, 'serialize': <msrest.serialization.Serializer object at 0x7f958f2b69b0>, 'allowed_keys': {}, 'key_restriction': False, 'logger': <Logger attr_dict (WARNING)>, 'display_name': None, 'experiment_name': None, 'compute': None, 'services': None, 'comment': None, 'job_inputs': {'X_train_input': '${{parent.jobs.normalization_node.outputs.X_train_output}}', 'X_test_input': '${{parent.jobs.normalization_node.outputs.X_test_output}}'}, 'job_outputs': {}, 'inputs': {'X_train_input': <azure.ai.ml.entities._job.pipeline._io.base.NodeInput object at 0x7f958f2b7f70>, 'X_test_input': <azure.ai.ml.entities._job.pipeline._io.base.NodeInput object at 0x7f958f2b6dd0>}, 'outputs': {}, 'component': 'azureml_anonymous:0a33ae95-0446-44cd-8c3e-b64ee17514b4', 'referenced_control_flow_node_instance_id': None, 'kwargs': {'services': None}, 'instance_id': '4cc6ebe8-f2f8-44dd-8c1d-4c9173903d69', 'source': 'REMOTE.WORKSPACE.COMPONENT', 'validate_required_input_not_provided': True, 'limits': None, 'identity': None, 'distribution': None, 'environment_variables': {}, 'environment': None, 'resources': None, 'queue_settings': None, 'swept': False}), 'training_node': Command({'parameters': {}, 'init': False, 'name': 'training_node', 'type': 'command', 'status': None, 'log_files': None, 'description': None, 'tags': {}, 'properties': {}, 'print_as_yaml': True, 'id': None, 'Resource__source_path': None, 'base_path': '/mnt/batch/tasks/shared/LS_root/mounts/clusters/default-compute-poc/code/Users/alejandro.donaire', 'creation_context': None, 'serialize': <msrest.serialization.Serializer object at 0x7f958f2b7730>, 'allowed_keys': {}, 'key_restriction': False, 'logger': <Logger attr_dict (WARNING)>, 'display_name': None, 'experiment_name': None, 'compute': None, 'services': None, 'comment': None, 'job_inputs': {'X_train_input': '${{parent.jobs.encoding_node.outputs.X_train_output}}', 'y_train_input': '${{parent.jobs.split_data_node.outputs.y_train_data}}'}, 'job_outputs': {}, 'inputs': {'X_train_input': <azure.ai.ml.entities._job.pipeline._io.base.NodeInput object at 0x7f958f2b7a30>, 'y_train_input': <azure.ai.ml.entities._job.pipeline._io.base.NodeInput object at 0x7f958f2b5240>}, 'outputs': {}, 'component': 'azureml_anonymous:b31b9f49-8767-4ed6-9090-07a0f9573b42', 'referenced_control_flow_node_instance_id': None, 'kwargs': {'services': None}, 'instance_id': '2402ba2c-9b51-4814-a863-a42bef868c9d', 'source': 'REMOTE.WORKSPACE.COMPONENT', 'validate_required_input_not_provided': True, 'limits': None, 'identity': None, 'distribution': None, 'environment_variables': {}, 'environment': None, 'resources': None, 'queue_settings': None, 'swept': False}), 'scoring_node': Command({'parameters': {}, 'init': False, 'name': 'scoring_node', 'type': 'command', 'status': None, 'log_files': None, 'description': None, 'tags': {}, 'properties': {}, 'print_as_yaml': True, 'id': None, 'Resource__source_path': None, 'base_path': '/mnt/batch/tasks/shared/LS_root/mounts/clusters/default-compute-poc/code/Users/alejandro.donaire', 'creation_context': None, 'serialize': <msrest.serialization.Serializer object at 0x7f958f2b46d0>, 'allowed_keys': {}, 'key_restriction': False, 'logger': <Logger attr_dict (WARNING)>, 'display_name': None, 'experiment_name': None, 'compute': None, 'services': None, 'comment': None, 'job_inputs': {'X_test_input': '${{parent.jobs.encoding_node.outputs.X_test_output}}', 'y_test_input': '${{parent.jobs.split_data_node.outputs.y_test_data}}', 'model_input': '${{parent.jobs.training_node.outputs.model_output}}'}, 'job_outputs': {}, 'inputs': {'X_test_input': <azure.ai.ml.entities._job.pipeline._io.base.NodeInput object at 0x7f958f2b54b0>, 'y_test_input': <azure.ai.ml.entities._job.pipeline._io.base.NodeInput object at 0x7f958f2b4640>, 'model_input': <azure.ai.ml.entities._job.pipeline._io.base.NodeInput object at 0x7f958f2b68c0>}, 'outputs': {}, 'component': 'azureml_anonymous:3d2b9f8f-af23-4880-8459-0068491336ce', 'referenced_control_flow_node_instance_id': None, 'kwargs': {'services': None}, 'instance_id': 'd144c88a-c1ab-4f49-af62-2f7d3f9ac46b', 'source': 'REMOTE.WORKSPACE.COMPONENT', 'validate_required_input_not_provided': True, 'limits': None, 'identity': None, 'distribution': None, 'environment_variables': {}, 'environment': None, 'resources': None, 'queue_settings': None, 'swept': False})}, 'job_types': {'command': 9}, 'job_sources': {'REMOTE.WORKSPACE.COMPONENT': 9}, 'source_job_id': None}), 'type': 'pipeline', 'status': 'Preparing', 'log_files': None, 'name': 'mango_night_fl4h3tjrqc', 'description': None, 'tags': {}, 'properties': {'azureml.DevPlatv2': 'true', 'azureml.DatasetAccessMode': 'Asset', 'azureml.runsource': 'azureml.PipelineRun', 'runSource': 'MFE', 'runType': 'HTTP', 'azureml.parameters': '{}', 'azureml.continue_on_step_failure': 'True', 'azureml.continue_on_failed_optional_input': 'True', 'azureml.enforceRerun': 'False', 'azureml.defaultComputeName': 'default-compute-poc', 'azureml.defaultDataStoreName': 'workspaceblobstore', 'azureml.pipelineComponent': 'pipelinerun'}, 'print_as_yaml': True, 'id': '/subscriptions/27a6aae6-ce60-4ae4-a06e-cfe9c1e824d4/resourceGroups/rg-ada-mlops-poc/providers/Microsoft.MachineLearningServices/workspaces/azu-ml-ada-mlops-poc/jobs/mango_night_fl4h3tjrqc', 'Resource__source_path': None, 'base_path': '/mnt/batch/tasks/shared/LS_root/mounts/clusters/default-compute-poc/code/Users/alejandro.donaire', 'creation_context': <azure.ai.ml.entities._system_data.SystemData object at 0x7f958f2b7dc0>, 'serialize': <msrest.serialization.Serializer object at 0x7f958f2b73a0>, 'display_name': 'marketing_campaign_prediction', 'experiment_name': 'marketing_pipeline_test_3', 'compute': None, 'services': {'Tracking': {'endpoint': 'azureml://westeurope.api.azureml.ms/mlflow/v1.0/subscriptions/27a6aae6-ce60-4ae4-a06e-cfe9c1e824d4/resourceGroups/rg-ada-mlops-poc/providers/Microsoft.MachineLearningServices/workspaces/azu-ml-ada-mlops-poc?', 'type': 'Tracking'}, 'Studio': {'endpoint': 'https://ml.azure.com/runs/mango_night_fl4h3tjrqc?wsid=/subscriptions/27a6aae6-ce60-4ae4-a06e-cfe9c1e824d4/resourcegroups/rg-ada-mlops-poc/workspaces/azu-ml-ada-mlops-poc&tid=d5b4529b-7457-49d9-931b-7c7f9b9eed54', 'type': 'Studio'}}, 'settings': {}, 'identity': None, 'default_code': None, 'default_environment': None})",
            "text/html": "<table style=\"width:100%\"><tr><th>Experiment</th><th>Name</th><th>Type</th><th>Status</th><th>Details Page</th></tr><tr><td>marketing_pipeline_test_3</td><td>mango_night_fl4h3tjrqc</td><td>pipeline</td><td>Preparing</td><td><a href=\"https://ml.azure.com/runs/mango_night_fl4h3tjrqc?wsid=/subscriptions/27a6aae6-ce60-4ae4-a06e-cfe9c1e824d4/resourcegroups/rg-ada-mlops-poc/workspaces/azu-ml-ada-mlops-poc&amp;tid=d5b4529b-7457-49d9-931b-7c7f9b9eed54\" target=\"_blank\" rel=\"noopener\">Link to Azure Machine Learning studio</a></td></tr></table>"
          },
          "metadata": {}
        }
      ],
      "execution_count": 75,
      "metadata": {
        "jupyter": {
          "source_hidden": false,
          "outputs_hidden": false
        },
        "nteract": {
          "transient": {
            "deleting": false
          }
        },
        "gather": {
          "logged": 1700650827537
        }
      }
    },
    {
      "cell_type": "markdown",
      "source": [
        "### Register components"
      ],
      "metadata": {
        "nteract": {
          "transient": {
            "deleting": false
          }
        }
      }
    },
    {
      "cell_type": "code",
      "source": [
        "# Register each component if it's not registered already\n",
        "for component in components:\n",
        "    try:\n",
        "        # try get back the component\n",
        "        retrieved_component = ml_client.components.get(name=component[0], version=\"1\")\n",
        "    except:\n",
        "        # if not exists, register component using following code\n",
        "        retrieved_component = ml_client.components.create_or_update(component[1])"
      ],
      "outputs": [],
      "execution_count": 80,
      "metadata": {
        "jupyter": {
          "source_hidden": false,
          "outputs_hidden": false
        },
        "nteract": {
          "transient": {
            "deleting": false
          }
        },
        "gather": {
          "logged": 1700651663373
        }
      }
    },
    {
      "cell_type": "code",
      "source": [
        "# List the registered components\n",
        "for c in ml_client.components.list():\n",
        "    print(c)"
      ],
      "outputs": [
        {
          "output_type": "stream",
          "name": "stdout",
          "text": "creation_context:\n  created_at: '2023-11-22T11:14:22.832285+00:00'\n  created_by: Alejandro Donaire\n  created_by_type: User\n  last_modified_at: '2023-11-22T11:14:22.906819+00:00'\n  last_modified_by: Alejandro Donaire\n  last_modified_by_type: User\ndescription: ''\nid: azureml:/subscriptions/27a6aae6-ce60-4ae4-a06e-cfe9c1e824d4/resourceGroups/rg-ada-mlops-poc/providers/Microsoft.MachineLearningServices/workspaces/azu-ml-ada-mlops-poc/components/scoring\nname: scoring\n\ncreation_context:\n  created_at: '2023-11-22T11:14:21.153766+00:00'\n  created_by: Alejandro Donaire\n  created_by_type: User\n  last_modified_at: '2023-11-22T11:14:21.233687+00:00'\n  last_modified_by: Alejandro Donaire\n  last_modified_by_type: User\ndescription: ''\nid: azureml:/subscriptions/27a6aae6-ce60-4ae4-a06e-cfe9c1e824d4/resourceGroups/rg-ada-mlops-poc/providers/Microsoft.MachineLearningServices/workspaces/azu-ml-ada-mlops-poc/components/training\nname: training\n\ncreation_context:\n  created_at: '2023-11-22T11:14:19.080083+00:00'\n  created_by: Alejandro Donaire\n  created_by_type: User\n  last_modified_at: '2023-11-22T11:14:19.150283+00:00'\n  last_modified_by: Alejandro Donaire\n  last_modified_by_type: User\ndescription: ''\nid: azureml:/subscriptions/27a6aae6-ce60-4ae4-a06e-cfe9c1e824d4/resourceGroups/rg-ada-mlops-poc/providers/Microsoft.MachineLearningServices/workspaces/azu-ml-ada-mlops-poc/components/encoding\nname: encoding\n\ncreation_context:\n  created_at: '2023-11-22T11:14:17.462940+00:00'\n  created_by: Alejandro Donaire\n  created_by_type: User\n  last_modified_at: '2023-11-22T11:14:17.540131+00:00'\n  last_modified_by: Alejandro Donaire\n  last_modified_by_type: User\ndescription: ''\nid: azureml:/subscriptions/27a6aae6-ce60-4ae4-a06e-cfe9c1e824d4/resourceGroups/rg-ada-mlops-poc/providers/Microsoft.MachineLearningServices/workspaces/azu-ml-ada-mlops-poc/components/normalization\nname: normalization\n\ncreation_context:\n  created_at: '2023-11-22T11:14:15.614526+00:00'\n  created_by: Alejandro Donaire\n  created_by_type: User\n  last_modified_at: '2023-11-22T11:14:15.687638+00:00'\n  last_modified_by: Alejandro Donaire\n  last_modified_by_type: User\ndescription: ''\nid: azureml:/subscriptions/27a6aae6-ce60-4ae4-a06e-cfe9c1e824d4/resourceGroups/rg-ada-mlops-poc/providers/Microsoft.MachineLearningServices/workspaces/azu-ml-ada-mlops-poc/components/imputation\nname: imputation\n\ncreation_context:\n  created_at: '2023-11-22T11:14:13.229346+00:00'\n  created_by: Alejandro Donaire\n  created_by_type: User\n  last_modified_at: '2023-11-22T11:14:13.304192+00:00'\n  last_modified_by: Alejandro Donaire\n  last_modified_by_type: User\ndescription: ''\nid: azureml:/subscriptions/27a6aae6-ce60-4ae4-a06e-cfe9c1e824d4/resourceGroups/rg-ada-mlops-poc/providers/Microsoft.MachineLearningServices/workspaces/azu-ml-ada-mlops-poc/components/split_data\nname: split_data\n\ncreation_context:\n  created_at: '2023-11-22T11:14:09.050328+00:00'\n  created_by: Alejandro Donaire\n  created_by_type: User\n  last_modified_at: '2023-11-22T11:14:09.139357+00:00'\n  last_modified_by: Alejandro Donaire\n  last_modified_by_type: User\ndescription: ''\nid: azureml:/subscriptions/27a6aae6-ce60-4ae4-a06e-cfe9c1e824d4/resourceGroups/rg-ada-mlops-poc/providers/Microsoft.MachineLearningServices/workspaces/azu-ml-ada-mlops-poc/components/outlier_treatment\nname: outlier_treatment\n\ncreation_context:\n  created_at: '2023-11-22T11:14:07.035832+00:00'\n  created_by: Alejandro Donaire\n  created_by_type: User\n  last_modified_at: '2023-11-22T11:14:07.159185+00:00'\n  last_modified_by: Alejandro Donaire\n  last_modified_by_type: User\ndescription: ''\nid: azureml:/subscriptions/27a6aae6-ce60-4ae4-a06e-cfe9c1e824d4/resourceGroups/rg-ada-mlops-poc/providers/Microsoft.MachineLearningServices/workspaces/azu-ml-ada-mlops-poc/components/feature_engineering\nname: feature_engineering\n\ncreation_context:\n  created_at: '2023-11-22T11:14:04.647358+00:00'\n  created_by: Alejandro Donaire\n  created_by_type: User\n  last_modified_at: '2023-11-22T11:14:04.742404+00:00'\n  last_modified_by: Alejandro Donaire\n  last_modified_by_type: User\ndescription: ''\nid: azureml:/subscriptions/27a6aae6-ce60-4ae4-a06e-cfe9c1e824d4/resourceGroups/rg-ada-mlops-poc/providers/Microsoft.MachineLearningServices/workspaces/azu-ml-ada-mlops-poc/components/feature_selection\nname: feature_selection\n\n"
        }
      ],
      "execution_count": 81,
      "metadata": {
        "jupyter": {
          "source_hidden": false,
          "outputs_hidden": false
        },
        "nteract": {
          "transient": {
            "deleting": false
          }
        },
        "gather": {
          "logged": 1700651669275
        }
      }
    },
    {
      "cell_type": "code",
      "source": [],
      "outputs": [],
      "execution_count": null,
      "metadata": {
        "jupyter": {
          "source_hidden": false,
          "outputs_hidden": false
        },
        "nteract": {
          "transient": {
            "deleting": false
          }
        }
      }
    }
  ],
  "metadata": {
    "kernelspec": {
      "name": "python310-sdkv2",
      "language": "python",
      "display_name": "Python 3.10 - SDK v2"
    },
    "language_info": {
      "name": "python",
      "version": "3.10.11",
      "mimetype": "text/x-python",
      "codemirror_mode": {
        "name": "ipython",
        "version": 3
      },
      "pygments_lexer": "ipython3",
      "nbconvert_exporter": "python",
      "file_extension": ".py"
    },
    "microsoft": {
      "ms_spell_check": {
        "ms_spell_check_language": "en"
      },
      "host": {
        "AzureML": {
          "notebookHasBeenCompleted": true
        }
      }
    },
    "kernel_info": {
      "name": "python310-sdkv2"
    },
    "nteract": {
      "version": "nteract-front-end@1.0.0"
    }
  },
  "nbformat": 4,
  "nbformat_minor": 2
}