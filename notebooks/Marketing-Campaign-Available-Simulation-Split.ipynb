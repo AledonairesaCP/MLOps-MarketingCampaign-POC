{
 "cells": [
  {
   "cell_type": "markdown",
   "id": "e8577804",
   "metadata": {},
   "source": [
    "# Marketing Campaign Dataset - Available-Simulation Split"
   ]
  },
  {
   "cell_type": "markdown",
   "id": "6959e858",
   "metadata": {},
   "source": [
    "## Abstract "
   ]
  },
  {
   "cell_type": "markdown",
   "id": "a5b39166",
   "metadata": {},
   "source": [
    "In this notebook, the raw data will be splitted into Available and Validation data. The Validation data will be used to test the pipelines, simulating new data to perform inference with the best model available. The Available data will simulate a smaller dataset that will be used to train and test models. Two new `.csv` files will be created with these new datasets."
   ]
  },
  {
   "cell_type": "markdown",
   "id": "6bf19d85",
   "metadata": {},
   "source": [
    "### Library imports"
   ]
  },
  {
   "cell_type": "code",
   "execution_count": 10,
   "id": "3f209576",
   "metadata": {},
   "outputs": [],
   "source": [
    "import pandas as pd\n",
    "from sklearn.model_selection import train_test_split"
   ]
  },
  {
   "cell_type": "markdown",
   "id": "545cecec",
   "metadata": {},
   "source": [
    "### Reading the raw data"
   ]
  },
  {
   "cell_type": "code",
   "execution_count": 6,
   "id": "b2cec4fb",
   "metadata": {},
   "outputs": [],
   "source": [
    "data_path = \"../Dataset/marketing_campaign.csv\"\n",
    "data = pd.read_csv(data_path, sep=\";\")"
   ]
  },
  {
   "cell_type": "markdown",
   "id": "6dce9352",
   "metadata": {},
   "source": [
    "### Random split into Available and Validation (90%-10%)"
   ]
  },
  {
   "cell_type": "code",
   "execution_count": 7,
   "id": "10853650",
   "metadata": {},
   "outputs": [],
   "source": [
    "available, validation = train_test_split(data, test_size=0.1, random_state=42)"
   ]
  },
  {
   "cell_type": "markdown",
   "id": "fe0f5f8e",
   "metadata": {},
   "source": [
    "### Saving the datasets"
   ]
  },
  {
   "cell_type": "code",
   "execution_count": 9,
   "id": "9233c4ea",
   "metadata": {},
   "outputs": [],
   "source": [
    "available.to_csv('../Dataset/marketing_campaign_available.csv', index=False, sep=';')\n",
    "validation.to_csv('../Dataset/marketing_campaign_simulation.csv', index=False, sep=';')"
   ]
  }
 ],
 "metadata": {
  "kernelspec": {
   "display_name": "Python 3 (ipykernel)",
   "language": "python",
   "name": "python3"
  },
  "language_info": {
   "codemirror_mode": {
    "name": "ipython",
    "version": 3
   },
   "file_extension": ".py",
   "mimetype": "text/x-python",
   "name": "python",
   "nbconvert_exporter": "python",
   "pygments_lexer": "ipython3",
   "version": "3.11.5"
  }
 },
 "nbformat": 4,
 "nbformat_minor": 5
}
