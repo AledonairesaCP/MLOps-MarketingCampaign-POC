{
 "cells": [
  {
   "cell_type": "markdown",
   "id": "35064520",
   "metadata": {},
   "source": [
    "# Marketing Campaign Dataset - Models"
   ]
  },
  {
   "cell_type": "markdown",
   "id": "350e3219",
   "metadata": {},
   "source": [
    "## Abstract"
   ]
  },
  {
   "cell_type": "markdown",
   "id": "09c05558",
   "metadata": {},
   "source": [
    "In this notebook initial models for the data are tested. The preprocessing developed in other notebooks to transform the data is used. "
   ]
  },
  {
   "cell_type": "markdown",
   "id": "e84d5a00",
   "metadata": {},
   "source": [
    "## Initialization (libraries, functions, paths)"
   ]
  },
  {
   "cell_type": "markdown",
   "id": "5ce33cff",
   "metadata": {},
   "source": [
    "### Data path"
   ]
  },
  {
   "cell_type": "code",
   "execution_count": 208,
   "id": "a1462271",
   "metadata": {},
   "outputs": [],
   "source": [
    "data_path = \"../Dataset/marketing_campaign_available.csv\""
   ]
  },
  {
   "cell_type": "markdown",
   "id": "859315e6",
   "metadata": {},
   "source": [
    "### Library imports"
   ]
  },
  {
   "cell_type": "code",
   "execution_count": 209,
   "id": "75e3f002",
   "metadata": {},
   "outputs": [],
   "source": [
    "# Data manipulation\n",
    "import pandas as pd\n",
    "import numpy as np\n",
    "from datetime import datetime\n",
    "\n",
    "# Missing data treatment\n",
    "from sklearn.experimental import enable_iterative_imputer\n",
    "from sklearn.impute import IterativeImputer\n",
    "\n",
    "# Normalization\n",
    "from sklearn.preprocessing import StandardScaler\n",
    "\n",
    "# Split data\n",
    "from sklearn.model_selection import train_test_split\n",
    "\n",
    "# Models\n",
    "from sklearn.linear_model import LogisticRegression\n",
    "from sklearn.ensemble import RandomForestClassifier\n",
    "\n",
    "# Evaluation\n",
    "from sklearn.metrics import f1_score\n",
    "from sklearn.metrics import accuracy_score\n",
    "from sklearn.model_selection import KFold\n",
    "from sklearn.model_selection import cross_val_score\n",
    "from sklearn.metrics import confusion_matrix\n",
    "from sklearn.metrics import ConfusionMatrixDisplay\n",
    "\n",
    "# Visualization\n",
    "import matplotlib.pyplot as plt"
   ]
  },
  {
   "cell_type": "markdown",
   "id": "f3a4d1f7",
   "metadata": {},
   "source": [
    "### Preprocessing functions"
   ]
  },
  {
   "cell_type": "code",
   "execution_count": 210,
   "id": "07045ae0",
   "metadata": {},
   "outputs": [],
   "source": [
    "def read_data(path):\n",
    "    data = pd.read_csv(path, sep=\";\")\n",
    "    return data\n",
    "\n",
    "def feature_selection(data):\n",
    "    # Variables that will be deleted from the dataset\n",
    "    remove_list = ['ID', 'Year_Birth', 'NumDealsPurchases', 'NumStorePurchases',\n",
    "                   'NumWebVisitsMonth', 'Complain', 'Z_CostContact', 'Z_Revenue']\n",
    "    \n",
    "    # Deleting the variables from the dataset\n",
    "    return data.drop(remove_list, axis=1)\n",
    "\n",
    "def feature_engineering(data):\n",
    "    # Marital_Status =======================================\n",
    "    # ======================================================\n",
    "    \n",
    "    # Merging the least frequent categories in Marital_Status\n",
    "    data['Marital_Status'] = data['Marital_Status'].replace(['YOLO', 'Absurd', 'Alone'], 'Others')\n",
    "\n",
    "    # Dt_Customer ==========================================\n",
    "    # ======================================================\n",
    "\n",
    "    # Convert to datetime\n",
    "    date_objects = [datetime.strptime(date_str, \"%Y-%m-%d\") for date_str in data['Dt_Customer']]\n",
    "\n",
    "    # The target date\n",
    "    target_date = datetime(2023, 1, 1)\n",
    "\n",
    "    # Calculate the difference in days between each date and the target date\n",
    "    days_passed = [(target_date - date_object).days for date_object in date_objects]\n",
    "\n",
    "    # Update the column\n",
    "    data['Dt_Customer'] = days_passed\n",
    "    \n",
    "    return data\n",
    "    \n",
    "def outlier_treatment(data):\n",
    "    # Determining which are outliers\n",
    "    condition = data['Income'] == 666666\n",
    "    \n",
    "    # Setting outlier to NaN\n",
    "    data.loc[condition, 'Income'] = np.nan\n",
    "    \n",
    "    return data\n",
    "\n",
    "def split_data(data):\n",
    "    # Separating the data from the response\n",
    "    X = data.drop(['Response'], axis=1)\n",
    "    y = data['Response']\n",
    "    \n",
    "    # Splitting the data with a fixed seed for reproducibility\n",
    "    X_train, X_test, y_train, y_test = train_test_split(X, y, test_size=0.2, random_state=42, stratify=data['Response'])\n",
    "    \n",
    "    return X_train, X_test, y_train, y_test\n",
    "\n",
    "def imputation(X_train, X_test):\n",
    "    # Select numeric columns\n",
    "    numeric_cols = X_train.select_dtypes(include=np.number).columns.tolist()\n",
    "\n",
    "    # Initialize the imputer\n",
    "    iter_imputer = IterativeImputer(random_state=42)\n",
    "\n",
    "    # Fit the imputer with the training data\n",
    "    iter_imputer.fit(X_train[numeric_cols])\n",
    "    \n",
    "    # Impute the data\n",
    "    X_train[numeric_cols] = iter_imputer.transform(X_train[numeric_cols])\n",
    "    X_test[numeric_cols] = iter_imputer.transform(X_test[numeric_cols])\n",
    "    \n",
    "    return X_train, X_test\n",
    "\n",
    "def normalization(X_train, X_test):\n",
    "    # Select numeric columns\n",
    "    numeric_cols = X_train.select_dtypes(include=np.number).columns.tolist()\n",
    "    \n",
    "    # Create the scaler\n",
    "    scaler = StandardScaler()\n",
    "\n",
    "    # Fit the scaler with the training data\n",
    "    scaler.fit(X_train[numeric_cols])\n",
    "    \n",
    "    # Normalize the data\n",
    "    X_train[numeric_cols] = scaler.transform(X_train[numeric_cols])\n",
    "    X_test[numeric_cols] = scaler.transform(X_test[numeric_cols])\n",
    "    \n",
    "    return X_train, X_test\n",
    "\n",
    "def encoding(X_train, X_test):\n",
    "    # One-hot encoding for categorical variables\n",
    "    X_train = pd.get_dummies(X_train, columns=['Education', 'Marital_Status'], prefix=['Edu', 'MS'])\n",
    "    X_test = pd.get_dummies(X_test, columns=['Education', 'Marital_Status'], prefix=['Edu', 'MS'])\n",
    "    \n",
    "    return X_train, X_test"
   ]
  },
  {
   "cell_type": "markdown",
   "id": "a3775460",
   "metadata": {},
   "source": [
    "### Evaluation functions"
   ]
  },
  {
   "cell_type": "code",
   "execution_count": 211,
   "id": "1f80ddd8",
   "metadata": {},
   "outputs": [],
   "source": [
    "def evaluate_model(y_train_real, y_train_pred, y_test_real, y_test_pred,\n",
    "                   model=None, X_train=None, n_folds=0):\n",
    "    # Calculating train scores\n",
    "    if n_folds: # With Cross Validation\n",
    "        folds = KFold(n_splits=n_folds, shuffle=True, random_state=42)\n",
    "        train_acc = cross_val_score(model, X_train, y_train_real, scoring=\"accuracy\", cv=folds)\n",
    "        train_f1 = cross_val_score(model, X_train, y_train_real, scoring=\"f1\", cv=folds)\n",
    "    else: # Without Cross Validation\n",
    "        train_acc = accuracy_score(y_train_real, y_train_pred)\n",
    "        train_f1 = f1_score(y_train_real, y_train_pred)\n",
    "\n",
    "    # Calculating test scores\n",
    "    test_acc = accuracy_score(y_test_real, y_test_pred)\n",
    "    test_f1 = f1_score(y_test_real, y_test_pred)\n",
    "    \n",
    "    return train_acc, train_f1, test_acc, test_f1\n",
    "\n",
    "def plot_confusion_matrix(y_real, y_pred):\n",
    "    # Claculating the confusion matrix\n",
    "    model_confusion_matrix = confusion_matrix(y_real, y_pred)\n",
    "\n",
    "    # Creating the plot\n",
    "    cm_plot = ConfusionMatrixDisplay(confusion_matrix=model_confusion_matrix,\n",
    "                                  display_labels=['0', '1'])\n",
    "\n",
    "    # Adjusting the plot and plotting\n",
    "    fig, ax = plt.subplots(figsize=(5,3))\n",
    "    cm_plot.plot(ax=ax)"
   ]
  },
  {
   "cell_type": "markdown",
   "id": "8009d3f8",
   "metadata": {},
   "source": [
    "## Initial model 1 (No model/ Frequency model)"
   ]
  },
  {
   "cell_type": "markdown",
   "id": "0e59851f",
   "metadata": {},
   "source": [
    "A dumb model would always choose the most frequent target value in the training dataset."
   ]
  },
  {
   "cell_type": "markdown",
   "id": "881c3e3f",
   "metadata": {},
   "source": [
    "### Preprocessing step"
   ]
  },
  {
   "cell_type": "code",
   "execution_count": 212,
   "id": "94f89fdd",
   "metadata": {
    "scrolled": true
   },
   "outputs": [
    {
     "data": {
      "text/plain": [
       "Response\n",
       "0    1377\n",
       "1     235\n",
       "Name: count, dtype: int64"
      ]
     },
     "execution_count": 212,
     "metadata": {},
     "output_type": "execute_result"
    }
   ],
   "source": [
    "data = read_data(data_path)\n",
    "data = feature_selection(data)\n",
    "data = feature_engineering(data)\n",
    "data = outlier_treatment(data)\n",
    "X_train, X_test, y_train, y_test = split_data(data)\n",
    "X_train, X_test = imputation(X_train, X_test)\n",
    "X_train, X_test = normalization(X_train, X_test)\n",
    "X_train, X_test = encoding(X_train, X_test)\n",
    "\n",
    "y_train.value_counts()"
   ]
  },
  {
   "cell_type": "markdown",
   "id": "e472dc12",
   "metadata": {},
   "source": [
    "### Implementation and prediction"
   ]
  },
  {
   "cell_type": "markdown",
   "id": "2a271ffb",
   "metadata": {},
   "source": [
    "In this case, the most frequent value is \"0\"\n",
    "\n",
    "So the accuracy in the test set would simply correspond to the fraction of \"0\" in the response column:"
   ]
  },
  {
   "cell_type": "code",
   "execution_count": 213,
   "id": "92b8d87b",
   "metadata": {
    "scrolled": false
   },
   "outputs": [
    {
     "data": {
      "text/plain": [
       "Response\n",
       "0    0.85396\n",
       "1    0.14604\n",
       "Name: count, dtype: float64"
      ]
     },
     "execution_count": 213,
     "metadata": {},
     "output_type": "execute_result"
    }
   ],
   "source": [
    "# Calculating the most frequent label in the response test set\n",
    "label_frequencies_test = y_test.value_counts()/len(y_test)\n",
    "label_frequencies_test"
   ]
  },
  {
   "cell_type": "code",
   "execution_count": 214,
   "id": "d399f711",
   "metadata": {},
   "outputs": [
    {
     "data": {
      "text/plain": [
       "[0, 0, 0, 0, 0, 0, 0, 0, 0, 0, 0, 0, 0, 0, 0]"
      ]
     },
     "execution_count": 214,
     "metadata": {},
     "output_type": "execute_result"
    }
   ],
   "source": [
    "# The prediction is a vector with the same value in all positions\n",
    "y_test_pred = [np.argmax(label_frequencies_test)]*len(y_test)\n",
    "y_test_pred[0:15]"
   ]
  },
  {
   "cell_type": "code",
   "execution_count": 215,
   "id": "f74e5621",
   "metadata": {},
   "outputs": [
    {
     "data": {
      "text/plain": [
       "[0, 0, 0, 0, 0, 0, 0, 0, 0, 0, 0, 0, 0, 0, 0]"
      ]
     },
     "execution_count": 215,
     "metadata": {},
     "output_type": "execute_result"
    }
   ],
   "source": [
    "# Predictions for the training set can also be generated\n",
    "label_frequencies_train = y_train.value_counts()/len(y_train)\n",
    "y_train_pred = [np.argmax(label_frequencies_train)]*len(y_train)\n",
    "y_train_pred[0:15]"
   ]
  },
  {
   "cell_type": "markdown",
   "id": "51bc1f40",
   "metadata": {},
   "source": [
    "### Results"
   ]
  },
  {
   "cell_type": "code",
   "execution_count": 216,
   "id": "2efe7222",
   "metadata": {},
   "outputs": [
    {
     "name": "stdout",
     "output_type": "stream",
     "text": [
      "Frequency model train accuracy: 0.8542183622828784\n",
      "Frequency model train F1: 0.0\n",
      "Frequency model test accuracy: 0.8539603960396039\n",
      "Frequency model test F1: 0.0\n"
     ]
    }
   ],
   "source": [
    "train_acc, train_f1, test_acc, test_f1 = evaluate_model(y_train, y_train_pred, y_test, y_test_pred)\n",
    "\n",
    "full_results = pd.DataFrame({\n",
    "    'Model': ['Frequency (Baseline)'],\n",
    "    'Train Accuracy Mean': [np.mean(train_acc)],\n",
    "    'Train Accuracy Std': np.nan,\n",
    "    'Train F1 Mean': [np.mean(train_f1)],\n",
    "    'Train F1 Std': np.nan,\n",
    "    'Test Accuracy': [test_acc],\n",
    "    'Test F1': [test_f1]\n",
    "})\n",
    "\n",
    "print(\"Frequency model train accuracy:\", train_acc)\n",
    "print(\"Frequency model train F1:\", train_f1)\n",
    "\n",
    "print(\"Frequency model test accuracy:\", test_acc)\n",
    "print(\"Frequency model test F1:\", test_f1)"
   ]
  },
  {
   "cell_type": "code",
   "execution_count": 217,
   "id": "a06ca3ea",
   "metadata": {
    "scrolled": true
   },
   "outputs": [
    {
     "data": {
      "image/png": "[encoded data removed]",
      "text/plain": [
       "<Figure size 500x300 with 2 Axes>"
      ]
     },
     "metadata": {},
     "output_type": "display_data"
    }
   ],
   "source": [
    "plot_confusion_matrix(y_test, y_test_pred)"
   ]
  },
  {
   "cell_type": "markdown",
   "id": "7138df8b",
   "metadata": {},
   "source": [
    "## Inital Model 2 (Logistic Regression)"
   ]
  },
  {
   "cell_type": "markdown",
   "id": "16814688",
   "metadata": {},
   "source": [
    "### Preprocessing step"
   ]
  },
  {
   "cell_type": "code",
   "execution_count": 218,
   "id": "d5d621fe",
   "metadata": {},
   "outputs": [],
   "source": [
    "data = read_data(data_path)\n",
    "data = feature_selection(data)\n",
    "data = feature_engineering(data)\n",
    "data = outlier_treatment(data)\n",
    "X_train, X_test, y_train, y_test = split_data(data)\n",
    "X_train, X_test = imputation(X_train, X_test)\n",
    "X_train, X_test = normalization(X_train, X_test)\n",
    "X_train, X_test = encoding(X_train, X_test)"
   ]
  },
  {
   "cell_type": "markdown",
   "id": "3b271b87",
   "metadata": {},
   "source": [
    "### Implementation"
   ]
  },
  {
   "cell_type": "code",
   "execution_count": 219,
   "id": "ae2a7147",
   "metadata": {},
   "outputs": [],
   "source": [
    "logistic_model = LogisticRegression().fit(X_train, y_train)"
   ]
  },
  {
   "cell_type": "markdown",
   "id": "4a54a06d",
   "metadata": {},
   "source": [
    "### Predictions"
   ]
  },
  {
   "cell_type": "code",
   "execution_count": 220,
   "id": "07aab1fe",
   "metadata": {},
   "outputs": [],
   "source": [
    "y_train_pred = logistic_model.predict(X_train)\n",
    "y_test_pred = logistic_model.predict(X_test)"
   ]
  },
  {
   "cell_type": "markdown",
   "id": "8bde2552",
   "metadata": {},
   "source": [
    "### Results"
   ]
  },
  {
   "cell_type": "code",
   "execution_count": 221,
   "id": "438a0a54",
   "metadata": {
    "scrolled": false
   },
   "outputs": [
    {
     "name": "stdout",
     "output_type": "stream",
     "text": [
      "Frequency model train accuracy: [0.89473684 0.91021672 0.89440994 0.88198758 0.89130435]\n",
      "Frequency model train F1: [0.54054054 0.64197531 0.55263158 0.47222222 0.54545455]\n",
      "Frequency model test accuracy: 0.9158415841584159\n",
      "Frequency model test F1: 0.6382978723404255\n"
     ]
    }
   ],
   "source": [
    "train_acc, train_f1, test_acc, test_f1 = evaluate_model(y_train, y_train_pred, y_test, y_test_pred,\n",
    "                                                       model=logistic_model, X_train=X_train, n_folds=5)\n",
    "\n",
    "new_data = pd.DataFrame({\n",
    "    'Model': ['Logistic Reg.'],\n",
    "    'Train Accuracy Mean': [np.mean(train_acc)],\n",
    "    'Train Accuracy Std': [np.std(train_acc)],\n",
    "    'Train F1 Mean': [np.mean(train_f1)],\n",
    "    'Train F1 Std': [np.std(train_f1)],\n",
    "    'Test Accuracy': [test_acc],\n",
    "    'Test F1': [test_f1]\n",
    "})\n",
    "\n",
    "full_results = pd.concat([full_results, new_data], ignore_index=True)\n",
    "\n",
    "print(\"Frequency model train accuracy:\", train_acc)\n",
    "print(\"Frequency model train F1:\", train_f1)\n",
    "\n",
    "print(\"Frequency model test accuracy:\", test_acc)\n",
    "print(\"Frequency model test F1:\", test_f1)"
   ]
  },
  {
   "cell_type": "code",
   "execution_count": 222,
   "id": "f093b3a0",
   "metadata": {},
   "outputs": [
    {
     "data": {
      "image/png": "[encoded data removed]",
      "text/plain": [
       "<Figure size 500x300 with 2 Axes>"
      ]
     },
     "metadata": {},
     "output_type": "display_data"
    }
   ],
   "source": [
    "plot_confusion_matrix(y_test, y_test_pred)"
   ]
  },
  {
   "cell_type": "markdown",
   "id": "604889c4",
   "metadata": {},
   "source": [
    "## Inital model 3 (Random Forest)"
   ]
  },
  {
   "cell_type": "markdown",
   "id": "d881a490",
   "metadata": {},
   "source": [
    "### Preprocessing step"
   ]
  },
  {
   "cell_type": "code",
   "execution_count": 223,
   "id": "c9d5c0d3",
   "metadata": {},
   "outputs": [],
   "source": [
    "data = read_data(data_path)\n",
    "data = feature_selection(data)\n",
    "data = feature_engineering(data)\n",
    "data = outlier_treatment(data)\n",
    "X_train, X_test, y_train, y_test = split_data(data)\n",
    "X_train, X_test = imputation(X_train, X_test)\n",
    "X_train, X_test = normalization(X_train, X_test)\n",
    "X_train, X_test = encoding(X_train, X_test)"
   ]
  },
  {
   "cell_type": "markdown",
   "id": "9bd1150c",
   "metadata": {},
   "source": [
    "### Implementation"
   ]
  },
  {
   "cell_type": "code",
   "execution_count": 224,
   "id": "b2b6eb64",
   "metadata": {
    "scrolled": true
   },
   "outputs": [
    {
     "data": {
      "text/html": [
       "<style>#sk-container-id-8 {color: black;}#sk-container-id-8 pre{padding: 0;}#sk-container-id-8 div.sk-toggleable {background-color: white;}#sk-container-id-8 label.sk-toggleable__label {cursor: pointer;display: block;width: 100%;margin-bottom: 0;padding: 0.3em;box-sizing: border-box;text-align: center;}#sk-container-id-8 label.sk-toggleable__label-arrow:before {content: \"▸\";float: left;margin-right: 0.25em;color: #696969;}#sk-container-id-8 label.sk-toggleable__label-arrow:hover:before {color: black;}#sk-container-id-8 div.sk-estimator:hover label.sk-toggleable__label-arrow:before {color: black;}#sk-container-id-8 div.sk-toggleable__content {max-height: 0;max-width: 0;overflow: hidden;text-align: left;background-color: #f0f8ff;}#sk-container-id-8 div.sk-toggleable__content pre {margin: 0.2em;color: black;border-radius: 0.25em;background-color: #f0f8ff;}#sk-container-id-8 input.sk-toggleable__control:checked~div.sk-toggleable__content {max-height: 200px;max-width: 100%;overflow: auto;}#sk-container-id-8 input.sk-toggleable__control:checked~label.sk-toggleable__label-arrow:before {content: \"▾\";}#sk-container-id-8 div.sk-estimator input.sk-toggleable__control:checked~label.sk-toggleable__label {background-color: #d4ebff;}#sk-container-id-8 div.sk-label input.sk-toggleable__control:checked~label.sk-toggleable__label {background-color: #d4ebff;}#sk-container-id-8 input.sk-hidden--visually {border: 0;clip: rect(1px 1px 1px 1px);clip: rect(1px, 1px, 1px, 1px);height: 1px;margin: -1px;overflow: hidden;padding: 0;position: absolute;width: 1px;}#sk-container-id-8 div.sk-estimator {font-family: monospace;background-color: #f0f8ff;border: 1px dotted black;border-radius: 0.25em;box-sizing: border-box;margin-bottom: 0.5em;}#sk-container-id-8 div.sk-estimator:hover {background-color: #d4ebff;}#sk-container-id-8 div.sk-parallel-item::after {content: \"\";width: 100%;border-bottom: 1px solid gray;flex-grow: 1;}#sk-container-id-8 div.sk-label:hover label.sk-toggleable__label {background-color: #d4ebff;}#sk-container-id-8 div.sk-serial::before {content: \"\";position: absolute;border-left: 1px solid gray;box-sizing: border-box;top: 0;bottom: 0;left: 50%;z-index: 0;}#sk-container-id-8 div.sk-serial {display: flex;flex-direction: column;align-items: center;background-color: white;padding-right: 0.2em;padding-left: 0.2em;position: relative;}#sk-container-id-8 div.sk-item {position: relative;z-index: 1;}#sk-container-id-8 div.sk-parallel {display: flex;align-items: stretch;justify-content: center;background-color: white;position: relative;}#sk-container-id-8 div.sk-item::before, #sk-container-id-8 div.sk-parallel-item::before {content: \"\";position: absolute;border-left: 1px solid gray;box-sizing: border-box;top: 0;bottom: 0;left: 50%;z-index: -1;}#sk-container-id-8 div.sk-parallel-item {display: flex;flex-direction: column;z-index: 1;position: relative;background-color: white;}#sk-container-id-8 div.sk-parallel-item:first-child::after {align-self: flex-end;width: 50%;}#sk-container-id-8 div.sk-parallel-item:last-child::after {align-self: flex-start;width: 50%;}#sk-container-id-8 div.sk-parallel-item:only-child::after {width: 0;}#sk-container-id-8 div.sk-dashed-wrapped {border: 1px dashed gray;margin: 0 0.4em 0.5em 0.4em;box-sizing: border-box;padding-bottom: 0.4em;background-color: white;}#sk-container-id-8 div.sk-label label {font-family: monospace;font-weight: bold;display: inline-block;line-height: 1.2em;}#sk-container-id-8 div.sk-label-container {text-align: center;}#sk-container-id-8 div.sk-container {/* jupyter's `normalize.less` sets `[hidden] { display: none; }` but bootstrap.min.css set `[hidden] { display: none !important; }` so we also need the `!important` here to be able to override the default hidden behavior on the sphinx rendered scikit-learn.org. See: https://github.com/scikit-learn/scikit-learn/issues/21755 */display: inline-block !important;position: relative;}#sk-container-id-8 div.sk-text-repr-fallback {display: none;}</style><div id=\"sk-container-id-8\" class=\"sk-top-container\"><div class=\"sk-text-repr-fallback\"><pre>RandomForestClassifier(random_state=42)</pre><b>In a Jupyter environment, please rerun this cell to show the HTML representation or trust the notebook. <br />On GitHub, the HTML representation is unable to render, please try loading this page with nbviewer.org.</b></div><div class=\"sk-container\" hidden><div class=\"sk-item\"><div class=\"sk-estimator sk-toggleable\"><input class=\"sk-toggleable__control sk-hidden--visually\" id=\"sk-estimator-id-8\" type=\"checkbox\" checked><label for=\"sk-estimator-id-8\" class=\"sk-toggleable__label sk-toggleable__label-arrow\">RandomForestClassifier</label><div class=\"sk-toggleable__content\"><pre>RandomForestClassifier(random_state=42)</pre></div></div></div></div></div>"
      ],
      "text/plain": [
       "RandomForestClassifier(random_state=42)"
      ]
     },
     "execution_count": 224,
     "metadata": {},
     "output_type": "execute_result"
    }
   ],
   "source": [
    "# Initialize model\n",
    "rf_model = RandomForestClassifier(n_estimators = 100, random_state=42)\n",
    "\n",
    "# Fit model\n",
    "rf_model.fit(X_train, y_train)"
   ]
  },
  {
   "cell_type": "markdown",
   "id": "8d13ac66",
   "metadata": {},
   "source": [
    "### Prediction"
   ]
  },
  {
   "cell_type": "code",
   "execution_count": 225,
   "id": "c08197da",
   "metadata": {},
   "outputs": [],
   "source": [
    "y_train_pred = rf_model.predict(X_train)\n",
    "y_test_pred = rf_model.predict(X_test)"
   ]
  },
  {
   "cell_type": "markdown",
   "id": "97ae4a47",
   "metadata": {},
   "source": [
    "### Results"
   ]
  },
  {
   "cell_type": "code",
   "execution_count": 226,
   "id": "c67bd5d8",
   "metadata": {},
   "outputs": [
    {
     "name": "stdout",
     "output_type": "stream",
     "text": [
      "Frequency model train accuracy: [0.88544892 0.87925697 0.88509317 0.8757764  0.88198758]\n",
      "Frequency model train F1: [0.43076923 0.43478261 0.46376812 0.35483871 0.44117647]\n",
      "Frequency model test accuracy: 0.8836633663366337\n",
      "Frequency model test F1: 0.3561643835616438\n"
     ]
    }
   ],
   "source": [
    "train_acc, train_f1, test_acc, test_f1 = evaluate_model(y_train, y_train_pred, y_test, y_test_pred,\n",
    "                                                       model=rf_model, X_train=X_train, n_folds=5)\n",
    "\n",
    "new_data = pd.DataFrame({\n",
    "    'Model': ['RF'],\n",
    "    'Train Accuracy Mean': [np.mean(train_acc)],\n",
    "    'Train Accuracy Std': [np.std(train_acc)],\n",
    "    'Train F1 Mean': [np.mean(train_f1)],\n",
    "    'Train F1 Std': [np.std(train_f1)],\n",
    "    'Test Accuracy': [test_acc],\n",
    "    'Test F1': [test_f1]\n",
    "})\n",
    "\n",
    "full_results = pd.concat([full_results, new_data], ignore_index=True)\n",
    "\n",
    "print(\"Frequency model train accuracy:\", train_acc)\n",
    "print(\"Frequency model train F1:\", train_f1)\n",
    "\n",
    "print(\"Frequency model test accuracy:\", test_acc)\n",
    "print(\"Frequency model test F1:\", test_f1)"
   ]
  },
  {
   "cell_type": "code",
   "execution_count": 227,
   "id": "706a511a",
   "metadata": {
    "scrolled": true
   },
   "outputs": [
    {
     "data": {
      "image/png": "[encoded data removed]",
      "text/plain": [
       "<Figure size 500x300 with 2 Axes>"
      ]
     },
     "metadata": {},
     "output_type": "display_data"
    }
   ],
   "source": [
    "plot_confusion_matrix(y_test, y_test_pred)"
   ]
  },
  {
   "cell_type": "markdown",
   "id": "7c8259a2",
   "metadata": {},
   "source": [
    "## Model comparison"
   ]
  },
  {
   "cell_type": "code",
   "execution_count": 228,
   "id": "7735b839",
   "metadata": {},
   "outputs": [
    {
     "data": {
      "text/html": [
       "<div>\n",
       "<style scoped>\n",
       "    .dataframe tbody tr th:only-of-type {\n",
       "        vertical-align: middle;\n",
       "    }\n",
       "\n",
       "    .dataframe tbody tr th {\n",
       "        vertical-align: top;\n",
       "    }\n",
       "\n",
       "    .dataframe thead th {\n",
       "        text-align: right;\n",
       "    }\n",
       "</style>\n",
       "<table border=\"1\" class=\"dataframe\">\n",
       "  <thead>\n",
       "    <tr style=\"text-align: right;\">\n",
       "      <th></th>\n",
       "      <th>Model</th>\n",
       "      <th>Train Accuracy Mean</th>\n",
       "      <th>Train Accuracy Std</th>\n",
       "      <th>Train F1 Mean</th>\n",
       "      <th>Train F1 Std</th>\n",
       "      <th>Test Accuracy</th>\n",
       "      <th>Test F1</th>\n",
       "    </tr>\n",
       "  </thead>\n",
       "  <tbody>\n",
       "    <tr>\n",
       "      <th>0</th>\n",
       "      <td>Frequency (Baseline)</td>\n",
       "      <td>0.854218</td>\n",
       "      <td>NaN</td>\n",
       "      <td>0.000000</td>\n",
       "      <td>NaN</td>\n",
       "      <td>0.853960</td>\n",
       "      <td>0.000000</td>\n",
       "    </tr>\n",
       "    <tr>\n",
       "      <th>1</th>\n",
       "      <td>Logistic Reg.</td>\n",
       "      <td>0.894531</td>\n",
       "      <td>0.009098</td>\n",
       "      <td>0.550565</td>\n",
       "      <td>0.054082</td>\n",
       "      <td>0.915842</td>\n",
       "      <td>0.638298</td>\n",
       "    </tr>\n",
       "    <tr>\n",
       "      <th>2</th>\n",
       "      <td>RF</td>\n",
       "      <td>0.881513</td>\n",
       "      <td>0.003648</td>\n",
       "      <td>0.425067</td>\n",
       "      <td>0.036922</td>\n",
       "      <td>0.883663</td>\n",
       "      <td>0.356164</td>\n",
       "    </tr>\n",
       "  </tbody>\n",
       "</table>\n",
       "</div>"
      ],
      "text/plain": [
       "                  Model  Train Accuracy Mean  Train Accuracy Std  \\\n",
       "0  Frequency (Baseline)             0.854218                 NaN   \n",
       "1         Logistic Reg.             0.894531            0.009098   \n",
       "2                    RF             0.881513            0.003648   \n",
       "\n",
       "   Train F1 Mean  Train F1 Std  Test Accuracy   Test F1  \n",
       "0       0.000000           NaN       0.853960  0.000000  \n",
       "1       0.550565      0.054082       0.915842  0.638298  \n",
       "2       0.425067      0.036922       0.883663  0.356164  "
      ]
     },
     "execution_count": 228,
     "metadata": {},
     "output_type": "execute_result"
    }
   ],
   "source": [
    "full_results"
   ]
  },
  {
   "cell_type": "code",
   "execution_count": 229,
   "id": "b762c3c0",
   "metadata": {},
   "outputs": [
    {
     "data": {
      "image/png": "[encoded data removed]",
      "text/plain": [
       "<Figure size 800x400 with 1 Axes>"
      ]
     },
     "metadata": {},
     "output_type": "display_data"
    }
   ],
   "source": [
    "melted_data = full_results.melt(id_vars=['Model'], value_vars=['Test Accuracy', 'Test F1'],\n",
    "                                var_name='Metric', value_name='Value')\n",
    "\n",
    "plt.figure(figsize=(8, 4))\n",
    "ax = sns.barplot(x='Model', y='Value', hue='Metric', data=melted_data)\n",
    "\n",
    "for p in ax.patches:\n",
    "    ax.text(p.get_x() + p.get_width() / 2., p.get_height(), '{0:.2f}'.format(p.get_height()), \n",
    "            fontsize=10, ha='center', va='bottom')\n",
    "\n",
    "plt.xticks(rotation=45)\n",
    "plt.title('Comparison of Test Accuracy and Test F1 for Each Model')\n",
    "\n",
    "plt.legend(bbox_to_anchor=(1.05, 1), loc='upper left')\n",
    "plt.tight_layout()\n",
    "plt.show()"
   ]
  },
  {
   "cell_type": "code",
   "execution_count": null,
   "id": "c0fc4e91",
   "metadata": {},
   "outputs": [],
   "source": []
  }
 ],
 "metadata": {
  "kernelspec": {
   "display_name": "Python 3 (ipykernel)",
   "language": "python",
   "name": "python3"
  },
  "language_info": {
   "codemirror_mode": {
    "name": "ipython",
    "version": 3
   },
   "file_extension": ".py",
   "mimetype": "text/x-python",
   "name": "python",
   "nbconvert_exporter": "python",
   "pygments_lexer": "ipython3",
   "version": "3.11.5"
  }
 },
 "nbformat": 4,
 "nbformat_minor": 5
}
